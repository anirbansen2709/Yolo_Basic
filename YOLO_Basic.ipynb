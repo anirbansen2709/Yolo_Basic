{
  "nbformat": 4,
  "nbformat_minor": 0,
  "metadata": {
    "colab": {
      "name": "YOLO_Basic.ipynb",
      "version": "0.3.2",
      "provenance": [],
      "collapsed_sections": []
    },
    "kernelspec": {
      "name": "python3",
      "display_name": "Python 3"
    }
  },
  "cells": [
    {
      "cell_type": "code",
      "metadata": {
        "id": "1ARXjRoegR5A",
        "colab_type": "code",
        "outputId": "69f8f807-9092-4c1e-ca1a-c4943e59fe6b",
        "colab": {
          "base_uri": "https://localhost:8080/",
          "height": 131
        }
      },
      "source": [
        "!git clone https://github.com/thtrieu/darkflow"
      ],
      "execution_count": 0,
      "outputs": [
        {
          "output_type": "stream",
          "text": [
            "Cloning into 'darkflow'...\n",
            "remote: Enumerating objects: 2706, done.\u001b[K\n",
            "remote: Total 2706 (delta 0), reused 0 (delta 0), pack-reused 2706\u001b[K\n",
            "Receiving objects: 100% (2706/2706), 32.98 MiB | 55.17 MiB/s, done.\n",
            "Resolving deltas: 100% (1761/1761), done.\n"
          ],
          "name": "stdout"
        }
      ]
    },
    {
      "cell_type": "code",
      "metadata": {
        "id": "MHj5HKf6gVxo",
        "colab_type": "code",
        "colab": {}
      },
      "source": [
        "!cp -a darkflow/. ."
      ],
      "execution_count": 0,
      "outputs": []
    },
    {
      "cell_type": "code",
      "metadata": {
        "id": "oj7EXTNzhxTa",
        "colab_type": "code",
        "outputId": "3b56a725-19d4-436c-f697-e3b14c42d415",
        "colab": {
          "base_uri": "https://localhost:8080/",
          "height": 973
        }
      },
      "source": [
        "!python3 setup.py build_ext --inplace"
      ],
      "execution_count": 0,
      "outputs": [
        {
          "output_type": "stream",
          "text": [
            "Compiling darkflow/cython_utils/nms.pyx because it changed.\n",
            "Compiling darkflow/cython_utils/cy_yolo2_findboxes.pyx because it changed.\n",
            "Compiling darkflow/cython_utils/cy_yolo_findboxes.pyx because it changed.\n",
            "[1/3] Cythonizing darkflow/cython_utils/cy_yolo2_findboxes.pyx\n",
            "/usr/local/lib/python3.6/dist-packages/Cython/Compiler/Main.py:369: FutureWarning: Cython directive 'language_level' not set, using 2 for now (Py2). This will change in a later release! File: /content/darkflow/cython_utils/cy_yolo2_findboxes.pyx\n",
            "  tree = Parsing.p_module(s, pxd, full_module_name)\n",
            "[2/3] Cythonizing darkflow/cython_utils/cy_yolo_findboxes.pyx\n",
            "/usr/local/lib/python3.6/dist-packages/Cython/Compiler/Main.py:369: FutureWarning: Cython directive 'language_level' not set, using 2 for now (Py2). This will change in a later release! File: /content/darkflow/cython_utils/cy_yolo_findboxes.pyx\n",
            "  tree = Parsing.p_module(s, pxd, full_module_name)\n",
            "[3/3] Cythonizing darkflow/cython_utils/nms.pyx\n",
            "/usr/local/lib/python3.6/dist-packages/Cython/Compiler/Main.py:369: FutureWarning: Cython directive 'language_level' not set, using 2 for now (Py2). This will change in a later release! File: /content/darkflow/cython_utils/nms.pxd\n",
            "  tree = Parsing.p_module(s, pxd, full_module_name)\n",
            "running build_ext\n",
            "building 'darkflow.cython_utils.nms' extension\n",
            "creating build\n",
            "creating build/temp.linux-x86_64-3.6\n",
            "creating build/temp.linux-x86_64-3.6/darkflow\n",
            "creating build/temp.linux-x86_64-3.6/darkflow/cython_utils\n",
            "x86_64-linux-gnu-gcc -pthread -DNDEBUG -g -fwrapv -O2 -Wall -g -fstack-protector-strong -Wformat -Werror=format-security -Wdate-time -D_FORTIFY_SOURCE=2 -fPIC -I/usr/local/lib/python3.6/dist-packages/numpy/core/include -I/usr/include/python3.6m -c darkflow/cython_utils/nms.c -o build/temp.linux-x86_64-3.6/darkflow/cython_utils/nms.o\n",
            "In file included from \u001b[01m\u001b[K/usr/local/lib/python3.6/dist-packages/numpy/core/include/numpy/ndarraytypes.h:1822:0\u001b[m\u001b[K,\n",
            "                 from \u001b[01m\u001b[K/usr/local/lib/python3.6/dist-packages/numpy/core/include/numpy/ndarrayobject.h:12\u001b[m\u001b[K,\n",
            "                 from \u001b[01m\u001b[K/usr/local/lib/python3.6/dist-packages/numpy/core/include/numpy/arrayobject.h:4\u001b[m\u001b[K,\n",
            "                 from \u001b[01m\u001b[Kdarkflow/cython_utils/nms.c:620\u001b[m\u001b[K:\n",
            "\u001b[01m\u001b[K/usr/local/lib/python3.6/dist-packages/numpy/core/include/numpy/npy_1_7_deprecated_api.h:17:2:\u001b[m\u001b[K \u001b[01;35m\u001b[Kwarning: \u001b[m\u001b[K#warning \"Using deprecated NumPy API, disable it with \" \"#define NPY_NO_DEPRECATED_API NPY_1_7_API_VERSION\" [\u001b[01;35m\u001b[K-Wcpp\u001b[m\u001b[K]\n",
            " #\u001b[01;35m\u001b[Kwarning\u001b[m\u001b[K \"Using deprecated NumPy API, disable it with \" \\\n",
            "  \u001b[01;35m\u001b[K^~~~~~~\u001b[m\u001b[K\n",
            "creating build/lib.linux-x86_64-3.6\n",
            "creating build/lib.linux-x86_64-3.6/darkflow\n",
            "creating build/lib.linux-x86_64-3.6/darkflow/cython_utils\n",
            "x86_64-linux-gnu-gcc -pthread -shared -Wl,-O1 -Wl,-Bsymbolic-functions -Wl,-Bsymbolic-functions -Wl,-z,relro -Wl,-Bsymbolic-functions -Wl,-z,relro -g -fstack-protector-strong -Wformat -Werror=format-security -Wdate-time -D_FORTIFY_SOURCE=2 build/temp.linux-x86_64-3.6/darkflow/cython_utils/nms.o -lm -o build/lib.linux-x86_64-3.6/darkflow/cython_utils/nms.cpython-36m-x86_64-linux-gnu.so\n",
            "building 'darkflow.cython_utils.cy_yolo2_findboxes' extension\n",
            "x86_64-linux-gnu-gcc -pthread -DNDEBUG -g -fwrapv -O2 -Wall -g -fstack-protector-strong -Wformat -Werror=format-security -Wdate-time -D_FORTIFY_SOURCE=2 -fPIC -I/usr/local/lib/python3.6/dist-packages/numpy/core/include -I/usr/include/python3.6m -c darkflow/cython_utils/cy_yolo2_findboxes.c -o build/temp.linux-x86_64-3.6/darkflow/cython_utils/cy_yolo2_findboxes.o\n",
            "In file included from \u001b[01m\u001b[K/usr/local/lib/python3.6/dist-packages/numpy/core/include/numpy/ndarraytypes.h:1822:0\u001b[m\u001b[K,\n",
            "                 from \u001b[01m\u001b[K/usr/local/lib/python3.6/dist-packages/numpy/core/include/numpy/ndarrayobject.h:12\u001b[m\u001b[K,\n",
            "                 from \u001b[01m\u001b[K/usr/local/lib/python3.6/dist-packages/numpy/core/include/numpy/arrayobject.h:4\u001b[m\u001b[K,\n",
            "                 from \u001b[01m\u001b[Kdarkflow/cython_utils/cy_yolo2_findboxes.c:620\u001b[m\u001b[K:\n",
            "\u001b[01m\u001b[K/usr/local/lib/python3.6/dist-packages/numpy/core/include/numpy/npy_1_7_deprecated_api.h:17:2:\u001b[m\u001b[K \u001b[01;35m\u001b[Kwarning: \u001b[m\u001b[K#warning \"Using deprecated NumPy API, disable it with \" \"#define NPY_NO_DEPRECATED_API NPY_1_7_API_VERSION\" [\u001b[01;35m\u001b[K-Wcpp\u001b[m\u001b[K]\n",
            " #\u001b[01;35m\u001b[Kwarning\u001b[m\u001b[K \"Using deprecated NumPy API, disable it with \" \\\n",
            "  \u001b[01;35m\u001b[K^~~~~~~\u001b[m\u001b[K\n",
            "x86_64-linux-gnu-gcc -pthread -shared -Wl,-O1 -Wl,-Bsymbolic-functions -Wl,-Bsymbolic-functions -Wl,-z,relro -Wl,-Bsymbolic-functions -Wl,-z,relro -g -fstack-protector-strong -Wformat -Werror=format-security -Wdate-time -D_FORTIFY_SOURCE=2 build/temp.linux-x86_64-3.6/darkflow/cython_utils/cy_yolo2_findboxes.o -lm -o build/lib.linux-x86_64-3.6/darkflow/cython_utils/cy_yolo2_findboxes.cpython-36m-x86_64-linux-gnu.so\n",
            "building 'darkflow.cython_utils.cy_yolo_findboxes' extension\n",
            "x86_64-linux-gnu-gcc -pthread -DNDEBUG -g -fwrapv -O2 -Wall -g -fstack-protector-strong -Wformat -Werror=format-security -Wdate-time -D_FORTIFY_SOURCE=2 -fPIC -I/usr/local/lib/python3.6/dist-packages/numpy/core/include -I/usr/include/python3.6m -c darkflow/cython_utils/cy_yolo_findboxes.c -o build/temp.linux-x86_64-3.6/darkflow/cython_utils/cy_yolo_findboxes.o\n",
            "In file included from \u001b[01m\u001b[K/usr/local/lib/python3.6/dist-packages/numpy/core/include/numpy/ndarraytypes.h:1822:0\u001b[m\u001b[K,\n",
            "                 from \u001b[01m\u001b[K/usr/local/lib/python3.6/dist-packages/numpy/core/include/numpy/ndarrayobject.h:12\u001b[m\u001b[K,\n",
            "                 from \u001b[01m\u001b[K/usr/local/lib/python3.6/dist-packages/numpy/core/include/numpy/arrayobject.h:4\u001b[m\u001b[K,\n",
            "                 from \u001b[01m\u001b[Kdarkflow/cython_utils/cy_yolo_findboxes.c:620\u001b[m\u001b[K:\n",
            "\u001b[01m\u001b[K/usr/local/lib/python3.6/dist-packages/numpy/core/include/numpy/npy_1_7_deprecated_api.h:17:2:\u001b[m\u001b[K \u001b[01;35m\u001b[Kwarning: \u001b[m\u001b[K#warning \"Using deprecated NumPy API, disable it with \" \"#define NPY_NO_DEPRECATED_API NPY_1_7_API_VERSION\" [\u001b[01;35m\u001b[K-Wcpp\u001b[m\u001b[K]\n",
            " #\u001b[01;35m\u001b[Kwarning\u001b[m\u001b[K \"Using deprecated NumPy API, disable it with \" \\\n",
            "  \u001b[01;35m\u001b[K^~~~~~~\u001b[m\u001b[K\n",
            "x86_64-linux-gnu-gcc -pthread -shared -Wl,-O1 -Wl,-Bsymbolic-functions -Wl,-Bsymbolic-functions -Wl,-z,relro -Wl,-Bsymbolic-functions -Wl,-z,relro -g -fstack-protector-strong -Wformat -Werror=format-security -Wdate-time -D_FORTIFY_SOURCE=2 build/temp.linux-x86_64-3.6/darkflow/cython_utils/cy_yolo_findboxes.o -lm -o build/lib.linux-x86_64-3.6/darkflow/cython_utils/cy_yolo_findboxes.cpython-36m-x86_64-linux-gnu.so\n",
            "copying build/lib.linux-x86_64-3.6/darkflow/cython_utils/nms.cpython-36m-x86_64-linux-gnu.so -> darkflow/cython_utils\n",
            "copying build/lib.linux-x86_64-3.6/darkflow/cython_utils/cy_yolo2_findboxes.cpython-36m-x86_64-linux-gnu.so -> darkflow/cython_utils\n",
            "copying build/lib.linux-x86_64-3.6/darkflow/cython_utils/cy_yolo_findboxes.cpython-36m-x86_64-linux-gnu.so -> darkflow/cython_utils\n"
          ],
          "name": "stdout"
        }
      ]
    },
    {
      "cell_type": "code",
      "metadata": {
        "id": "oqKUPmayiMT-",
        "colab_type": "code",
        "outputId": "69dd4637-625e-4405-b42c-58f45f7794ed",
        "colab": {
          "base_uri": "https://localhost:8080/",
          "height": 854
        }
      },
      "source": [
        "!./flow --h"
      ],
      "execution_count": 0,
      "outputs": [
        {
          "output_type": "stream",
          "text": [
            "WARNING: Logging before flag parsing goes to stderr.\n",
            "W0811 07:17:41.791556 140221393913728 deprecation_wrapper.py:119] From /content/darkflow/net/build.py:15: The name tf.train.RMSPropOptimizer is deprecated. Please use tf.compat.v1.train.RMSPropOptimizer instead.\n",
            "\n",
            "W0811 07:17:41.791851 140221393913728 deprecation_wrapper.py:119] From /content/darkflow/net/build.py:16: The name tf.train.AdadeltaOptimizer is deprecated. Please use tf.compat.v1.train.AdadeltaOptimizer instead.\n",
            "\n",
            "W0811 07:17:41.791972 140221393913728 deprecation_wrapper.py:119] From /content/darkflow/net/build.py:17: The name tf.train.AdagradOptimizer is deprecated. Please use tf.compat.v1.train.AdagradOptimizer instead.\n",
            "\n",
            "W0811 07:17:41.792080 140221393913728 deprecation_wrapper.py:119] From /content/darkflow/net/build.py:18: The name tf.train.AdagradDAOptimizer is deprecated. Please use tf.compat.v1.train.AdagradDAOptimizer instead.\n",
            "\n",
            "W0811 07:17:41.792193 140221393913728 deprecation_wrapper.py:119] From /content/darkflow/net/build.py:19: The name tf.train.MomentumOptimizer is deprecated. Please use tf.compat.v1.train.MomentumOptimizer instead.\n",
            "\n",
            "\n",
            "Example usage: flow --imgdir sample_img/ --model cfg/yolo.cfg --load bin/yolo.weights\n",
            "\n",
            "Arguments:\n",
            "  --help, --h, -h  show this super helpful message and exit\n",
            "  --imgdir         path to testing directory with images\n",
            "  --binary         path to .weights directory\n",
            "  --config         path to .cfg directory\n",
            "  --dataset        path to dataset directory\n",
            "  --labels         path to labels file\n",
            "  --backup         path to backup folder\n",
            "  --summary        path to TensorBoard summaries directory\n",
            "  --annotation     path to annotation directory\n",
            "  --threshold      detection threshold\n",
            "  --model          configuration of choice\n",
            "  --trainer        training algorithm\n",
            "  --momentum       applicable for rmsprop and momentum optimizers\n",
            "  --verbalise      say out loud while building graph\n",
            "  --train          train the whole net\n",
            "  --load           how to initialize the net? Either from .weights or a checkpoint, or even from scratch\n",
            "  --savepb         save net and weight to a .pb file\n",
            "  --gpu            how much gpu (from 0.0 to 1.0)\n",
            "  --gpuName        GPU device name\n",
            "  --lr             learning rate\n",
            "  --keep           Number of most recent training results to save\n",
            "  --batch          batch size\n",
            "  --epoch          number of epoch\n",
            "  --save           save checkpoint every ? training examples\n",
            "  --demo           demo on webcam\n",
            "  --queue          process demo in batch\n",
            "  --json           Outputs bounding box information in json format.\n",
            "  --saveVideo      Records video from input video or camera\n",
            "  --pbLoad         path to .pb protobuf file (metaLoad must also be specified)\n",
            "  --metaLoad       path to .meta file generated during --savepb that corresponds to .pb file\n",
            "\n"
          ],
          "name": "stdout"
        }
      ]
    },
    {
      "cell_type": "code",
      "metadata": {
        "id": "6xEKwm-AlCx7",
        "colab_type": "code",
        "colab": {}
      },
      "source": [
        "!cp tiny-yolo-voc.weights ./bin/"
      ],
      "execution_count": 0,
      "outputs": []
    },
    {
      "cell_type": "code",
      "metadata": {
        "id": "B5lM5V_HiYMa",
        "colab_type": "code",
        "outputId": "7e6c851f-7066-4543-a231-6fb25e6f830a",
        "colab": {
          "base_uri": "https://localhost:8080/",
          "height": 1000
        }
      },
      "source": [
        "!./flow --imgdir sample_img/ --model cfg/tiny-yolo-voc.cfg --load bin/tiny-yolo-voc.weights --gpu 1.0"
      ],
      "execution_count": 0,
      "outputs": [
        {
          "output_type": "stream",
          "text": [
            "WARNING: Logging before flag parsing goes to stderr.\n",
            "W0811 08:05:51.944726 140619079337856 deprecation_wrapper.py:119] From /content/darkflow/net/build.py:15: The name tf.train.RMSPropOptimizer is deprecated. Please use tf.compat.v1.train.RMSPropOptimizer instead.\n",
            "\n",
            "W0811 08:05:51.945043 140619079337856 deprecation_wrapper.py:119] From /content/darkflow/net/build.py:16: The name tf.train.AdadeltaOptimizer is deprecated. Please use tf.compat.v1.train.AdadeltaOptimizer instead.\n",
            "\n",
            "W0811 08:05:51.945174 140619079337856 deprecation_wrapper.py:119] From /content/darkflow/net/build.py:17: The name tf.train.AdagradOptimizer is deprecated. Please use tf.compat.v1.train.AdagradOptimizer instead.\n",
            "\n",
            "W0811 08:05:51.945285 140619079337856 deprecation_wrapper.py:119] From /content/darkflow/net/build.py:18: The name tf.train.AdagradDAOptimizer is deprecated. Please use tf.compat.v1.train.AdagradDAOptimizer instead.\n",
            "\n",
            "W0811 08:05:51.945415 140619079337856 deprecation_wrapper.py:119] From /content/darkflow/net/build.py:19: The name tf.train.MomentumOptimizer is deprecated. Please use tf.compat.v1.train.MomentumOptimizer instead.\n",
            "\n",
            "\n",
            "Parsing ./cfg/tiny-yolo-voc.cfg\n",
            "Parsing cfg/tiny-yolo-voc.cfg\n",
            "Loading bin/tiny-yolo-voc.weights ...\n",
            "Successfully identified 63471556 bytes\n",
            "Finished in 0.004520893096923828s\n",
            "Model has a VOC model name, loading VOC labels.\n",
            "\n",
            "Building net ...\n",
            "W0811 08:05:51.959351 140619079337856 deprecation_wrapper.py:119] From /content/darkflow/net/build.py:105: The name tf.placeholder is deprecated. Please use tf.compat.v1.placeholder instead.\n",
            "\n",
            "Source | Train? | Layer description                | Output size\n",
            "-------+--------+----------------------------------+---------------\n",
            "W0811 08:05:51.964517 140619079337856 deprecation_wrapper.py:119] From /content/darkflow/net/ops/baseop.py:70: The name tf.variable_scope is deprecated. Please use tf.compat.v1.variable_scope instead.\n",
            "\n",
            "W0811 08:05:51.964927 140619079337856 deprecation_wrapper.py:119] From /content/darkflow/net/ops/baseop.py:71: The name tf.get_variable is deprecated. Please use tf.compat.v1.get_variable instead.\n",
            "\n",
            "W0811 08:05:51.979040 140619079337856 deprecation_wrapper.py:119] From /content/darkflow/net/ops/baseop.py:84: The name tf.placeholder_with_default is deprecated. Please use tf.compat.v1.placeholder_with_default instead.\n",
            "\n",
            "       |        | input                            | (?, 416, 416, 3)\n",
            " Load  |  Yep!  | conv 3x3p1_1  +bnorm  leaky      | (?, 416, 416, 16)\n",
            "W0811 08:05:52.067458 140619079337856 deprecation_wrapper.py:119] From /content/darkflow/net/ops/simple.py:106: The name tf.nn.max_pool is deprecated. Please use tf.nn.max_pool2d instead.\n",
            "\n",
            " Load  |  Yep!  | maxp 2x2p0_2                     | (?, 208, 208, 16)\n",
            " Load  |  Yep!  | conv 3x3p1_1  +bnorm  leaky      | (?, 208, 208, 32)\n",
            " Load  |  Yep!  | maxp 2x2p0_2                     | (?, 104, 104, 32)\n",
            " Load  |  Yep!  | conv 3x3p1_1  +bnorm  leaky      | (?, 104, 104, 64)\n",
            " Load  |  Yep!  | maxp 2x2p0_2                     | (?, 52, 52, 64)\n",
            " Load  |  Yep!  | conv 3x3p1_1  +bnorm  leaky      | (?, 52, 52, 128)\n",
            " Load  |  Yep!  | maxp 2x2p0_2                     | (?, 26, 26, 128)\n",
            " Load  |  Yep!  | conv 3x3p1_1  +bnorm  leaky      | (?, 26, 26, 256)\n",
            " Load  |  Yep!  | maxp 2x2p0_2                     | (?, 13, 13, 256)\n",
            " Load  |  Yep!  | conv 3x3p1_1  +bnorm  leaky      | (?, 13, 13, 512)\n",
            " Load  |  Yep!  | maxp 2x2p0_1                     | (?, 13, 13, 512)\n",
            " Load  |  Yep!  | conv 3x3p1_1  +bnorm  leaky      | (?, 13, 13, 1024)\n",
            " Load  |  Yep!  | conv 3x3p1_1  +bnorm  leaky      | (?, 13, 13, 1024)\n",
            " Load  |  Yep!  | conv 1x1p0_1    linear           | (?, 13, 13, 125)\n",
            "-------+--------+----------------------------------+---------------\n",
            "GPU mode with 1.0 usage\n",
            "W0811 08:05:53.383212 140619079337856 deprecation_wrapper.py:119] From /content/darkflow/net/build.py:132: The name tf.GPUOptions is deprecated. Please use tf.compat.v1.GPUOptions instead.\n",
            "\n",
            "2019-08-11 08:05:53.413219: I tensorflow/core/platform/profile_utils/cpu_utils.cc:94] CPU Frequency: 2200000000 Hz\n",
            "2019-08-11 08:05:53.413522: I tensorflow/compiler/xla/service/service.cc:168] XLA service 0x204ef40 executing computations on platform Host. Devices:\n",
            "2019-08-11 08:05:53.413562: I tensorflow/compiler/xla/service/service.cc:175]   StreamExecutor device (0): <undefined>, <undefined>\n",
            "2019-08-11 08:05:53.802486: W tensorflow/compiler/jit/mark_for_compilation_pass.cc:1412] (One-time warning): Not using XLA:CPU for cluster because envvar TF_XLA_FLAGS=--tf_xla_cpu_global_jit was not set.  If you want XLA:CPU, either set that envvar, or use experimental_jit_scope to enable XLA:CPU.  To confirm that XLA is active, pass --vmodule=xla_compilation_cache=1 (as a proper command-line flag, not via TF_XLA_FLAGS) or set the envvar XLA_FLAGS=--xla_hlo_profile.\n",
            "Finished in 2.0900986194610596s\n",
            "\n",
            "Forwarding 8 inputs ...\n",
            "Total time = 2.099342107772827s / 8 inps = 3.810717638816442 ips\n",
            "Post processing 8 inputs ...\n",
            "Total time = 0.34310388565063477s / 8 inps = 23.3165531915485 ips\n"
          ],
          "name": "stdout"
        }
      ]
    },
    {
      "cell_type": "code",
      "metadata": {
        "id": "yHfxMwtnjJIM",
        "colab_type": "code",
        "outputId": "e4b27473-ed51-4869-b833-89f78c86594d",
        "colab": {
          "base_uri": "https://localhost:8080/",
          "height": 1000
        }
      },
      "source": [
        "!./flow --model cfg/tiny-yolo-voc.cfg --load bin/tiny-yolo-voc.weights --demo test_vedio.mp4 --saveVideo"
      ],
      "execution_count": 0,
      "outputs": [
        {
          "output_type": "stream",
          "text": [
            "WARNING: Logging before flag parsing goes to stderr.\n",
            "W0811 08:39:43.172341 140285105911680 deprecation_wrapper.py:119] From /content/darkflow/net/build.py:15: The name tf.train.RMSPropOptimizer is deprecated. Please use tf.compat.v1.train.RMSPropOptimizer instead.\n",
            "\n",
            "W0811 08:39:43.172672 140285105911680 deprecation_wrapper.py:119] From /content/darkflow/net/build.py:16: The name tf.train.AdadeltaOptimizer is deprecated. Please use tf.compat.v1.train.AdadeltaOptimizer instead.\n",
            "\n",
            "W0811 08:39:43.172795 140285105911680 deprecation_wrapper.py:119] From /content/darkflow/net/build.py:17: The name tf.train.AdagradOptimizer is deprecated. Please use tf.compat.v1.train.AdagradOptimizer instead.\n",
            "\n",
            "W0811 08:39:43.172904 140285105911680 deprecation_wrapper.py:119] From /content/darkflow/net/build.py:18: The name tf.train.AdagradDAOptimizer is deprecated. Please use tf.compat.v1.train.AdagradDAOptimizer instead.\n",
            "\n",
            "W0811 08:39:43.173010 140285105911680 deprecation_wrapper.py:119] From /content/darkflow/net/build.py:19: The name tf.train.MomentumOptimizer is deprecated. Please use tf.compat.v1.train.MomentumOptimizer instead.\n",
            "\n",
            "\n",
            "Parsing ./cfg/tiny-yolo-voc.cfg\n",
            "Parsing cfg/tiny-yolo-voc.cfg\n",
            "Loading bin/tiny-yolo-voc.weights ...\n",
            "Successfully identified 63471556 bytes\n",
            "Finished in 0.004607439041137695s\n",
            "Model has a VOC model name, loading VOC labels.\n",
            "\n",
            "Building net ...\n",
            "W0811 08:39:43.180847 140285105911680 deprecation_wrapper.py:119] From /content/darkflow/net/build.py:105: The name tf.placeholder is deprecated. Please use tf.compat.v1.placeholder instead.\n",
            "\n",
            "Source | Train? | Layer description                | Output size\n",
            "-------+--------+----------------------------------+---------------\n",
            "W0811 08:39:43.182574 140285105911680 deprecation_wrapper.py:119] From /content/darkflow/net/ops/baseop.py:70: The name tf.variable_scope is deprecated. Please use tf.compat.v1.variable_scope instead.\n",
            "\n",
            "W0811 08:39:43.182925 140285105911680 deprecation_wrapper.py:119] From /content/darkflow/net/ops/baseop.py:71: The name tf.get_variable is deprecated. Please use tf.compat.v1.get_variable instead.\n",
            "\n",
            "W0811 08:39:43.191271 140285105911680 deprecation_wrapper.py:119] From /content/darkflow/net/ops/baseop.py:84: The name tf.placeholder_with_default is deprecated. Please use tf.compat.v1.placeholder_with_default instead.\n",
            "\n",
            "       |        | input                            | (?, 416, 416, 3)\n",
            " Load  |  Yep!  | conv 3x3p1_1  +bnorm  leaky      | (?, 416, 416, 16)\n",
            "W0811 08:39:43.242788 140285105911680 deprecation_wrapper.py:119] From /content/darkflow/net/ops/simple.py:106: The name tf.nn.max_pool is deprecated. Please use tf.nn.max_pool2d instead.\n",
            "\n",
            " Load  |  Yep!  | maxp 2x2p0_2                     | (?, 208, 208, 16)\n",
            " Load  |  Yep!  | conv 3x3p1_1  +bnorm  leaky      | (?, 208, 208, 32)\n",
            " Load  |  Yep!  | maxp 2x2p0_2                     | (?, 104, 104, 32)\n",
            " Load  |  Yep!  | conv 3x3p1_1  +bnorm  leaky      | (?, 104, 104, 64)\n",
            " Load  |  Yep!  | maxp 2x2p0_2                     | (?, 52, 52, 64)\n",
            " Load  |  Yep!  | conv 3x3p1_1  +bnorm  leaky      | (?, 52, 52, 128)\n",
            " Load  |  Yep!  | maxp 2x2p0_2                     | (?, 26, 26, 128)\n",
            " Load  |  Yep!  | conv 3x3p1_1  +bnorm  leaky      | (?, 26, 26, 256)\n",
            " Load  |  Yep!  | maxp 2x2p0_2                     | (?, 13, 13, 256)\n",
            " Load  |  Yep!  | conv 3x3p1_1  +bnorm  leaky      | (?, 13, 13, 512)\n",
            " Load  |  Yep!  | maxp 2x2p0_1                     | (?, 13, 13, 512)\n",
            " Load  |  Yep!  | conv 3x3p1_1  +bnorm  leaky      | (?, 13, 13, 1024)\n",
            " Load  |  Yep!  | conv 3x3p1_1  +bnorm  leaky      | (?, 13, 13, 1024)\n",
            " Load  |  Yep!  | conv 1x1p0_1    linear           | (?, 13, 13, 125)\n",
            "-------+--------+----------------------------------+---------------\n",
            "Running entirely on CPU\n",
            "W0811 08:39:44.514012 140285105911680 deprecation_wrapper.py:119] From /content/darkflow/net/build.py:145: The name tf.Session is deprecated. Please use tf.compat.v1.Session instead.\n",
            "\n",
            "2019-08-11 08:39:44.518358: I tensorflow/core/platform/profile_utils/cpu_utils.cc:94] CPU Frequency: 2200000000 Hz\n",
            "2019-08-11 08:39:44.518623: I tensorflow/compiler/xla/service/service.cc:168] XLA service 0x2cc2f40 executing computations on platform Host. Devices:\n",
            "2019-08-11 08:39:44.518656: I tensorflow/compiler/xla/service/service.cc:175]   StreamExecutor device (0): <undefined>, <undefined>\n",
            "2019-08-11 08:39:44.771641: W tensorflow/compiler/jit/mark_for_compilation_pass.cc:1412] (One-time warning): Not using XLA:CPU for cluster because envvar TF_XLA_FLAGS=--tf_xla_cpu_global_jit was not set.  If you want XLA:CPU, either set that envvar, or use experimental_jit_scope to enable XLA:CPU.  To confirm that XLA is active, pass --vmodule=xla_compilation_cache=1 (as a proper command-line flag, not via TF_XLA_FLAGS) or set the envvar XLA_FLAGS=--xla_hlo_profile.\n",
            "Finished in 1.786555290222168s\n",
            "\n",
            "Press [ESC] to quit demo\n",
            "4.547 FPS\n",
            "End of Video\n",
            "\n",
            "Demo stopped, exit.\n"
          ],
          "name": "stdout"
        }
      ]
    },
    {
      "cell_type": "code",
      "metadata": {
        "id": "XDDvSPXc3FNo",
        "colab_type": "code",
        "colab": {}
      },
      "source": [
        "!git add ."
      ],
      "execution_count": 0,
      "outputs": []
    },
    {
      "cell_type": "code",
      "metadata": {
        "id": "1FsCZU5v3JhZ",
        "colab_type": "code",
        "outputId": "bf83d3c6-195d-451f-cb8a-00c73b3f6e1c",
        "colab": {
          "base_uri": "https://localhost:8080/",
          "height": 1000
        }
      },
      "source": [
        "!git status"
      ],
      "execution_count": 0,
      "outputs": [
        {
          "output_type": "stream",
          "text": [
            "On branch master\n",
            "Your branch is up to date with 'origin/master'.\n",
            "\n",
            "Changes to be committed:\n",
            "  (use \"git reset HEAD <file>...\" to unstage)\n",
            "\n",
            "\t\u001b[32mnew file:   .config/.last_update_check.json\u001b[m\n",
            "\t\u001b[32mnew file:   .config/.metricsUUID\u001b[m\n",
            "\t\u001b[32mnew file:   .config/active_config\u001b[m\n",
            "\t\u001b[32mnew file:   .config/config_sentinel\u001b[m\n",
            "\t\u001b[32mnew file:   .config/configurations/config_default\u001b[m\n",
            "\t\u001b[32mnew file:   .config/gce\u001b[m\n",
            "\t\u001b[32mnew file:   .config/logs/2019.08.01/16.07.42.143897.log\u001b[m\n",
            "\t\u001b[32mnew file:   .config/logs/2019.08.01/16.07.46.425969.log\u001b[m\n",
            "\t\u001b[32mnew file:   .config/logs/2019.08.01/16.07.55.217131.log\u001b[m\n",
            "\t\u001b[32mnew file:   .config/logs/2019.08.01/16.07.58.165001.log\u001b[m\n",
            "\t\u001b[32mnew file:   .config/logs/2019.08.01/16.07.59.199989.log\u001b[m\n",
            "\t\u001b[32mnew file:   Negative Space - Oscar Nominated Stop-Motion Animation - Short of the Week.mp4\u001b[m\n",
            "\t\u001b[32mnew file:   darkflow/.coveragerc\u001b[m\n",
            "\t\u001b[32mnew file:   darkflow/.gitignore\u001b[m\n",
            "\t\u001b[32mnew file:   darkflow/.travis.yml\u001b[m\n",
            "\t\u001b[32mnew file:   darkflow/LICENSE\u001b[m\n",
            "\t\u001b[32mnew file:   darkflow/README.md\u001b[m\n",
            "\t\u001b[32mnew file:   darkflow/cfg/coco.names\u001b[m\n",
            "\t\u001b[32mnew file:   darkflow/cfg/extraction.cfg\u001b[m\n",
            "\t\u001b[32mnew file:   darkflow/cfg/extraction.conv.cfg\u001b[m\n",
            "\t\u001b[32mnew file:   darkflow/cfg/tiny-yolo-4c.cfg\u001b[m\n",
            "\t\u001b[32mnew file:   darkflow/cfg/tiny-yolo-voc.cfg\u001b[m\n",
            "\t\u001b[32mnew file:   darkflow/cfg/tiny-yolo.cfg\u001b[m\n",
            "\t\u001b[32mnew file:   darkflow/cfg/v1.1/person-bottle.cfg\u001b[m\n",
            "\t\u001b[32mnew file:   darkflow/cfg/v1.1/tiny-coco.cfg\u001b[m\n",
            "\t\u001b[32mnew file:   darkflow/cfg/v1.1/tiny-yolo-4c.cfg\u001b[m\n",
            "\t\u001b[32mnew file:   darkflow/cfg/v1.1/tiny-yolov1.cfg\u001b[m\n",
            "\t\u001b[32mnew file:   darkflow/cfg/v1.1/yolo-coco.cfg\u001b[m\n",
            "\t\u001b[32mnew file:   darkflow/cfg/v1.1/yolov1.cfg\u001b[m\n",
            "\t\u001b[32mnew file:   darkflow/cfg/v1/tiny-old.profile\u001b[m\n",
            "\t\u001b[32mnew file:   darkflow/cfg/v1/tiny.profile\u001b[m\n",
            "\t\u001b[32mnew file:   darkflow/cfg/v1/yolo-2c.cfg\u001b[m\n",
            "\t\u001b[32mnew file:   darkflow/cfg/v1/yolo-4c.cfg\u001b[m\n",
            "\t\u001b[32mnew file:   darkflow/cfg/v1/yolo-full.cfg\u001b[m\n",
            "\t\u001b[32mnew file:   darkflow/cfg/v1/yolo-small.cfg\u001b[m\n",
            "\t\u001b[32mnew file:   darkflow/cfg/v1/yolo-tiny-extract.cfg\u001b[m\n",
            "\t\u001b[32mnew file:   darkflow/cfg/v1/yolo-tiny-extract_.cfg\u001b[m\n",
            "\t\u001b[32mnew file:   darkflow/cfg/v1/yolo-tiny.cfg\u001b[m\n",
            "\t\u001b[32mnew file:   darkflow/cfg/v1/yolo-tiny4c.cfg\u001b[m\n",
            "\t\u001b[32mnew file:   darkflow/cfg/yolo-voc.cfg\u001b[m\n",
            "\t\u001b[32mnew file:   darkflow/cfg/yolo.cfg\u001b[m\n",
            "\t\u001b[32mnew file:   darkflow/cython_utils/cy_yolo2_findboxes.cpython-36m-x86_64-linux-gnu.so\u001b[m\n",
            "\t\u001b[32mnew file:   darkflow/cython_utils/cy_yolo_findboxes.cpython-36m-x86_64-linux-gnu.so\u001b[m\n",
            "\t\u001b[32mnew file:   darkflow/cython_utils/nms.cpython-36m-x86_64-linux-gnu.so\u001b[m\n",
            "\t\u001b[32mnew file:   darkflow/darkflow/__init__.py\u001b[m\n",
            "\t\u001b[32mnew file:   darkflow/darkflow/cli.py\u001b[m\n",
            "\t\u001b[32mnew file:   darkflow/darkflow/cython_utils/__init__.py\u001b[m\n",
            "\t\u001b[32mnew file:   darkflow/darkflow/cython_utils/cy_yolo2_findboxes.pyx\u001b[m\n",
            "\t\u001b[32mnew file:   darkflow/darkflow/cython_utils/cy_yolo_findboxes.pyx\u001b[m\n",
            "\t\u001b[32mnew file:   darkflow/darkflow/cython_utils/nms.pxd\u001b[m\n",
            "\t\u001b[32mnew file:   darkflow/darkflow/cython_utils/nms.pyx\u001b[m\n",
            "\t\u001b[32mnew file:   darkflow/darkflow/dark/__init__.py\u001b[m\n",
            "\t\u001b[32mnew file:   darkflow/darkflow/dark/connected.py\u001b[m\n",
            "\t\u001b[32mnew file:   darkflow/darkflow/dark/convolution.py\u001b[m\n",
            "\t\u001b[32mnew file:   darkflow/darkflow/dark/darknet.py\u001b[m\n",
            "\t\u001b[32mnew file:   darkflow/darkflow/dark/darkop.py\u001b[m\n",
            "\t\u001b[32mnew file:   darkflow/darkflow/dark/layer.py\u001b[m\n",
            "\t\u001b[32mnew file:   darkflow/darkflow/defaults.py\u001b[m\n",
            "\t\u001b[32mnew file:   darkflow/darkflow/net/__init__.py\u001b[m\n",
            "\t\u001b[32mnew file:   darkflow/darkflow/net/build.py\u001b[m\n",
            "\t\u001b[32mnew file:   darkflow/darkflow/net/flow.py\u001b[m\n",
            "\t\u001b[32mnew file:   darkflow/darkflow/net/framework.py\u001b[m\n",
            "\t\u001b[32mnew file:   darkflow/darkflow/net/help.py\u001b[m\n",
            "\t\u001b[32mnew file:   darkflow/darkflow/net/mnist/run.py\u001b[m\n",
            "\t\u001b[32mnew file:   darkflow/darkflow/net/ops/__init__.py\u001b[m\n",
            "\t\u001b[32mnew file:   darkflow/darkflow/net/ops/baseop.py\u001b[m\n",
            "\t\u001b[32mnew file:   darkflow/darkflow/net/ops/convolution.py\u001b[m\n",
            "\t\u001b[32mnew file:   darkflow/darkflow/net/ops/simple.py\u001b[m\n",
            "\t\u001b[32mnew file:   darkflow/darkflow/net/vanilla/__init__.py\u001b[m\n",
            "\t\u001b[32mnew file:   darkflow/darkflow/net/vanilla/train.py\u001b[m\n",
            "\t\u001b[32mnew file:   darkflow/darkflow/net/yolo/__init__.py\u001b[m\n",
            "\t\u001b[32mnew file:   darkflow/darkflow/net/yolo/data.py\u001b[m\n",
            "\t\u001b[32mnew file:   darkflow/darkflow/net/yolo/misc.py\u001b[m\n",
            "\t\u001b[32mnew file:   darkflow/darkflow/net/yolo/predict.py\u001b[m\n",
            "\t\u001b[32mnew file:   darkflow/darkflow/net/yolo/train.py\u001b[m\n",
            "\t\u001b[32mnew file:   darkflow/darkflow/net/yolov2/__init__.py\u001b[m\n",
            "\t\u001b[32mnew file:   darkflow/darkflow/net/yolov2/data.py\u001b[m\n",
            "\t\u001b[32mnew file:   darkflow/darkflow/net/yolov2/predict.py\u001b[m\n",
            "\t\u001b[32mnew file:   darkflow/darkflow/net/yolov2/train.py\u001b[m\n",
            "\t\u001b[32mnew file:   darkflow/darkflow/utils/__init__.py\u001b[m\n",
            "\t\u001b[32mnew file:   darkflow/darkflow/utils/box.py\u001b[m\n",
            "\t\u001b[32mnew file:   darkflow/darkflow/utils/im_transform.py\u001b[m\n",
            "\t\u001b[32mnew file:   darkflow/darkflow/utils/loader.py\u001b[m\n",
            "\t\u001b[32mnew file:   darkflow/darkflow/utils/pascal_voc_clean_xml.py\u001b[m\n",
            "\t\u001b[32mnew file:   darkflow/darkflow/utils/process.py\u001b[m\n",
            "\t\u001b[32mnew file:   darkflow/darkflow/version.py\u001b[m\n",
            "\t\u001b[32mnew file:   darkflow/demo.gif\u001b[m\n",
            "\t\u001b[32mnew file:   darkflow/flow\u001b[m\n",
            "\t\u001b[32mnew file:   darkflow/preview.png\u001b[m\n",
            "\t\u001b[32mnew file:   darkflow/sample_img/sample_computer.jpg\u001b[m\n",
            "\t\u001b[32mnew file:   darkflow/sample_img/sample_dog.jpg\u001b[m\n",
            "\t\u001b[32mnew file:   darkflow/sample_img/sample_eagle.jpg\u001b[m\n",
            "\t\u001b[32mnew file:   darkflow/sample_img/sample_giraffe.jpg\u001b[m\n",
            "\t\u001b[32mnew file:   darkflow/sample_img/sample_horses.jpg\u001b[m\n",
            "\t\u001b[32mnew file:   darkflow/sample_img/sample_office.jpg\u001b[m\n",
            "\t\u001b[32mnew file:   darkflow/sample_img/sample_person.jpg\u001b[m\n",
            "\t\u001b[32mnew file:   darkflow/sample_img/sample_scream.jpg\u001b[m\n",
            "\t\u001b[32mnew file:   darkflow/setup.py\u001b[m\n",
            "\t\u001b[32mnew file:   darkflow/test/requirements-testing.txt\u001b[m\n",
            "\t\u001b[32mnew file:   darkflow/test/test_darkflow.py\u001b[m\n",
            "\t\u001b[32mnew file:   darkflow/test/training/annotations/1.xml\u001b[m\n",
            "\t\u001b[32mnew file:   darkflow/test/training/annotations/2.xml\u001b[m\n",
            "\t\u001b[32mnew file:   darkflow/test/training/images/1.jpg\u001b[m\n",
            "\t\u001b[32mnew file:   darkflow/test/training/images/2.jpg\u001b[m\n",
            "\t\u001b[32mnew file:   test_vedio.mp4\u001b[m\n",
            "\t\u001b[32mnew file:   tiny-yolo-voc.weights\u001b[m\n",
            "\t\u001b[32mnew file:   tiny-yolo.weights\u001b[m\n",
            "\t\u001b[32mnew file:   video.avi\u001b[m\n",
            "\t\u001b[32mnew file:   yolov2-tiny.weights\u001b[m\n",
            "\n"
          ],
          "name": "stdout"
        }
      ]
    },
    {
      "cell_type": "code",
      "metadata": {
        "id": "98O-lPft3who",
        "colab_type": "code",
        "colab": {
          "base_uri": "https://localhost:8080/",
          "height": 221
        },
        "outputId": "3085bd0c-c78b-4864-e49e-b2cb4380de29"
      },
      "source": [
        "!git commit -m \"first commit\""
      ],
      "execution_count": 34,
      "outputs": [
        {
          "output_type": "stream",
          "text": [
            "\n",
            "*** Please tell me who you are.\n",
            "\n",
            "Run\n",
            "\n",
            "  git config --global user.email \"you@example.com\"\n",
            "  git config --global user.name \"Your Name\"\n",
            "\n",
            "to set your account's default identity.\n",
            "Omit --global to set the identity only in this repository.\n",
            "\n",
            "fatal: unable to auto-detect email address (got 'root@1ec06b8229e7.(none)')\n"
          ],
          "name": "stdout"
        }
      ]
    },
    {
      "cell_type": "code",
      "metadata": {
        "id": "-g6-Yshd5h9E",
        "colab_type": "code",
        "colab": {}
      },
      "source": [
        "!git config --global user.email \"anirban.sen\""
      ],
      "execution_count": 0,
      "outputs": []
    }
  ]
}